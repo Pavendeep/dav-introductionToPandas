{
  "nbformat": 4,
  "nbformat_minor": 0,
  "metadata": {
    "colab": {
      "name": "10 Contents.ipynb",
      "version": "0.3.2",
      "provenance": []
    },
    "language_info": {
      "codemirror_mode": {
        "name": "ipython",
        "version": 3
      },
      "file_extension": ".py",
      "mimetype": "text/x-python",
      "name": "python",
      "nbconvert_exporter": "python",
      "pygments_lexer": "ipython3",
      "version": "3.6.6"
    },
    "kernelspec": {
      "display_name": "Python 3",
      "language": "python",
      "name": "python3"
    }
  },
  "cells": [
    {
      "cell_type": "markdown",
      "metadata": {
        "id": "WRdSPIhBKhjE",
        "colab_type": "text"
      },
      "source": [
        "# Data Analysis with Python I\n",
        "\n",
        "## Import, clean\n",
        "\n",
        "- [Read csv](./01%20Tutorial.ipynb#Getting-the-data-into-Python)\n",
        "This teaches me how to read a CSV file.\n",
        "- [Datetime format](./02%20Blackbirds.ipynb#Setting-a-column-to-datetime-format)\n",
        "- [Ordering ordinal data](./02%20Blackbirds.ipynb#Ordinal-data)\n",
        "- [Ordinal categories](./03%20Titanic.ipynb#Setting-ordinal-categories)\n",
        "- [Read tab separated values](./03%20Titanic.ipynb#Tab-separated-values)\n",
        "- [Deal with the thousands comma](./04%20Baby%20names.ipynb#Deal-with-the-thousands-comma)\n",
        "- [Convert a column to integer](./04%20Baby%20names.ipynb#Converting-a-column-to-integer)\n",
        "- [Drop a single row of data](./04%20Baby%20names.ipynb#Drop-a-single-row-of-)\n",
        "\n",
        "\n",
        "## Index, sort, search, filter and pivot\n",
        "\n",
        "- [Setting an index](./01%20Tutorial.ipynb#Q2)\n",
        "- [Sorting by the index](./04%20Baby%20names.ipynb#Setting-an-index-and-sorting-on-it)\n",
        "- [Accessing columns](./01%20Tutorial.ipynb#Accessing-the-columns)\n",
        "- [Basic sorting and filtering](./01%20Tutorial.ipynb#Sorting-and-filtering)\n",
        "- [Groupby](./02%20Blackbirds.ipynb#Introducing-groupby)\n",
        "- [Filter with 'like'](./04%20Baby%20names.ipynb#The-filter-function-with-like)\n",
        "- [loc and iloc](./04a%20Exam%20results.ipynb#Indexing-with-loc,-iloc)\n",
        "- [Filter with 'regex'](./04a%20Exam%20results.ipynb#The-filter-function-with-regex)\n",
        "- [The query function](./04a%20Exam%20results.ipynb#The-query-function)\n",
        "- [The (numpy) where function](./04a%20Exam%20results.ipynb#The-numpy-where-function)\n",
        "- [Categorising data with cut](./04a%20Exam%20results.ipynb#Categorising-data-with-cut)\n",
        "- [Crosstabulation](./05%20Hypothesis%20Tests.ipynb#Chi-squared)\n",
        "- [Select by data type](./09%20The%20World.ipynb#Selecting-numerical-columns)\n",
        "- [Get the index back as a column](./09%20The%20World.ipynb#How-to-get-your-index-back-into-a-column)\n",
        "\n",
        "## Concatenate and join\n",
        "\n",
        "- [Make new columns from existing columns](./01%20Tutorial.ipynb#Time-Series)\n",
        "- [Make a new, constant, column](./04%20Baby%20names.ipynb#Making-a-new,-constant,-column)\n",
        "- [Combining by concatenation](./04%20Baby%20names.ipynb#Combining-data-frames---concatenation)\n",
        "- [Combining by joining on a common column](./04%20Baby%20names.ipynb#Join-two-dataframes-on-a-common-column)\n",
        "- [When the shared column has a different name](./09%20The%20World.ipynb#Merging-on-a-common-column-with-different-names)\n",
        "\n",
        "## Measure and summarise\n",
        "\n",
        "- [Summary statistics](./01%20Tutorial.ipynb#Summary-statistics)\n",
        "- [Correlation](./01%20Tutorial.ipynb#Investigating-relationships)\n",
        "- [Describe subsets](./02%20Blackbirds.ipynb#Q10)\n",
        "\n",
        "## Visualise\n",
        "\n",
        "- [Overview of visualisation libraries](./06a%20Overview%20of%20visualisation%20libraries.ipynb)\n",
        "- [Scatter plots with pandas and seaborn](./01%20Tutorial.ipynb#Investigating-relationships)\n",
        "- [Time series](./01%20Tutorial.ipynb#Time-Series)\n",
        "- [Also time series](./02%20Blackbirds.ipynb#Time-series)\n",
        "- [Scatter plot with seaborn with markers and colours](./02%20Blackbirds.ipynb#Q9)\n",
        "- [Seaborn distribution plot](./02%20Blackbirds.ipynb#Distribution-plots)\n",
        "- [Grouped box plots](./02%20Blackbirds.ipynb#Boxplots)\n",
        "- [Seaborn catplot for grouped count plots](./03%20Titanic.ipynb#Seaborn's-catplot)\n",
        "- [Adding data labels in pyplot/seaborn](./04a%20Exam%20results.ipynb#Adding-labels-in-pyplot/seaborn)\n",
        "- [Interactivity in notebooks](./05a%20numpy%20and%20interact.ipynb#The-interact-widget)\n",
        "- [Chartify from Spotify](./06%20Chartify%20Tutorial.ipynb)\n",
        "- [Holoviews](./06b%20Holoviews.ipynb)\n",
        "- [Grouped plots in seaborn - relplot](./09%20The%20World.ipynb#Seaborn-relplot)\n",
        "- [Multiple scatter plots - pairplot](./09%20The%20World.ipynb#Seaborn-pairplot)\n",
        "- [Maps with geopandas](./09%20The%20World.ipynb#Introduction-to-geopandas)\n",
        "\n",
        "\n",
        "## Test\n",
        "\n",
        "- [t-tests](./02%20Blackbirds.ipynb#Hypothesis-testing)\n",
        "- [An example of a non-parametric test on a skewed distribution](./03%20Titanic.ipynb#A-non-parametric-test)\n",
        "- [Chi squared test](./05%20Hypothesis%20Tests.ipynb#Chi-squared)\n",
        "- [An interactive t-test](./05%20Hypothesis%20Tests.ipynb#t-test)\n",
        "- [Binomial hypothesis testing](./05%20Hypothesis%20Tests.ipynb#Binomial)\n",
        "- [Groundhog Day case study](./07%20Groundhog%20Day.ipynb)\n",
        "\n",
        "## Simulate\n",
        "\n",
        "- [Generating some simple data to understand a problem better](./03b%20Toytanic.ipynb#03b-Toytanic)\n",
        "- [Simulate normally distributed data](./04a%20Exam%20results.ipynb#Fake-exam-results)\n"
      ]
    },
    {
      "cell_type": "code",
      "metadata": {
        "id": "vve_YSVBLVKc",
        "colab_type": "code",
        "colab": {}
      },
      "source": [
        ""
      ],
      "execution_count": 0,
      "outputs": []
    },
    {
      "cell_type": "markdown",
      "metadata": {
        "id": "u6Xh2JZ9Ko0l",
        "colab_type": "text"
      },
      "source": [
        ""
      ]
    }
  ]
}